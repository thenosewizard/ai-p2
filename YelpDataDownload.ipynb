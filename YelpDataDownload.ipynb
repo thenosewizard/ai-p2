{
 "cells": [
  {
   "cell_type": "code",
   "execution_count": 3,
   "metadata": {},
   "outputs": [],
   "source": [
    "import pandas as pd"
   ]
  },
  {
   "cell_type": "code",
   "execution_count": 31,
   "metadata": {},
   "outputs": [],
   "source": [
    "size = 100000\n",
    "\n",
    "file = '~/Downloads/review.json'"
   ]
  },
  {
   "cell_type": "code",
   "execution_count": 32,
   "metadata": {},
   "outputs": [],
   "source": [
    "\n",
    "#converting the review data to csv\n",
    "data = pd.read_json(file, lines = True ,  \n",
    "                    dtype={'review_id':str,'user_id':str,\n",
    "                             'business_id':str,'stars':int,\n",
    "                             'date':str,'text':str,'useful':int,\n",
    "                             'funny':int,'cool':int},\n",
    "                              chunksize=size)\n"
   ]
  },
  {
   "cell_type": "code",
   "execution_count": 33,
   "metadata": {},
   "outputs": [],
   "source": [
    "csv_name = \"yelpReview.csv\"\n",
    "df = pd.concat(data)\n",
    "df.to_csv(csv_name, index = False)"
   ]
  },
  {
   "cell_type": "code",
   "execution_count": 17,
   "metadata": {},
   "outputs": [],
   "source": [
    "#Business data\n",
    "\n",
    "business = pd.read_json('~/Downloads/business.json', lines = True)\n",
    "businessDF = business.loc[business['review_count'] > 4000]\n",
    "csv_name_ = \"businessData.csv\"\n",
    "businessDF.to_csv(csv_name_, index = False)"
   ]
  },
  {
   "cell_type": "code",
   "execution_count": null,
   "metadata": {},
   "outputs": [],
   "source": [
    "# Businesses to train data on \n",
    "\n",
    "#1 Secret Pizza , ID: iCQpiavjjPzJ5_3gPD5Ebg\n",
    "\n",
    "#2 Earl of SandWich, ID: DkYS3arLOhA8si5uUEmHOw\n",
    "\n",
    "#3 Gordon Ramsay BurGR, ID: cYwJA2A6I12KNkm2rtXd5g\n",
    "\n",
    "#4 Wicked spoon, ID: K7lWdNUhCbcnEvI0NhGewg\n"
   ]
  }
 ],
 "metadata": {
  "kernelspec": {
   "display_name": "Python 3",
   "language": "python",
   "name": "python3"
  },
  "language_info": {
   "codemirror_mode": {
    "name": "ipython",
    "version": 3
   },
   "file_extension": ".py",
   "mimetype": "text/x-python",
   "name": "python",
   "nbconvert_exporter": "python",
   "pygments_lexer": "ipython3",
   "version": "3.6.9"
  }
 },
 "nbformat": 4,
 "nbformat_minor": 2
}
