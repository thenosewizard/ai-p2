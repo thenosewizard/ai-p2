{
 "cells": [
  {
   "cell_type": "code",
   "execution_count": 1,
   "metadata": {},
   "outputs": [
    {
     "name": "stderr",
     "output_type": "stream",
     "text": [
      "Using TensorFlow backend.\n",
      "/home/abicharanb/.local/lib/python3.6/site-packages/tensorflow/python/framework/dtypes.py:516: FutureWarning: Passing (type, 1) or '1type' as a synonym of type is deprecated; in a future version of numpy, it will be understood as (type, (1,)) / '(1,)type'.\n",
      "  _np_qint8 = np.dtype([(\"qint8\", np.int8, 1)])\n",
      "/home/abicharanb/.local/lib/python3.6/site-packages/tensorflow/python/framework/dtypes.py:517: FutureWarning: Passing (type, 1) or '1type' as a synonym of type is deprecated; in a future version of numpy, it will be understood as (type, (1,)) / '(1,)type'.\n",
      "  _np_quint8 = np.dtype([(\"quint8\", np.uint8, 1)])\n",
      "/home/abicharanb/.local/lib/python3.6/site-packages/tensorflow/python/framework/dtypes.py:518: FutureWarning: Passing (type, 1) or '1type' as a synonym of type is deprecated; in a future version of numpy, it will be understood as (type, (1,)) / '(1,)type'.\n",
      "  _np_qint16 = np.dtype([(\"qint16\", np.int16, 1)])\n",
      "/home/abicharanb/.local/lib/python3.6/site-packages/tensorflow/python/framework/dtypes.py:519: FutureWarning: Passing (type, 1) or '1type' as a synonym of type is deprecated; in a future version of numpy, it will be understood as (type, (1,)) / '(1,)type'.\n",
      "  _np_quint16 = np.dtype([(\"quint16\", np.uint16, 1)])\n",
      "/home/abicharanb/.local/lib/python3.6/site-packages/tensorflow/python/framework/dtypes.py:520: FutureWarning: Passing (type, 1) or '1type' as a synonym of type is deprecated; in a future version of numpy, it will be understood as (type, (1,)) / '(1,)type'.\n",
      "  _np_qint32 = np.dtype([(\"qint32\", np.int32, 1)])\n",
      "/home/abicharanb/.local/lib/python3.6/site-packages/tensorflow/python/framework/dtypes.py:525: FutureWarning: Passing (type, 1) or '1type' as a synonym of type is deprecated; in a future version of numpy, it will be understood as (type, (1,)) / '(1,)type'.\n",
      "  np_resource = np.dtype([(\"resource\", np.ubyte, 1)])\n",
      "/home/abicharanb/.local/lib/python3.6/site-packages/tensorboard/compat/tensorflow_stub/dtypes.py:541: FutureWarning: Passing (type, 1) or '1type' as a synonym of type is deprecated; in a future version of numpy, it will be understood as (type, (1,)) / '(1,)type'.\n",
      "  _np_qint8 = np.dtype([(\"qint8\", np.int8, 1)])\n",
      "/home/abicharanb/.local/lib/python3.6/site-packages/tensorboard/compat/tensorflow_stub/dtypes.py:542: FutureWarning: Passing (type, 1) or '1type' as a synonym of type is deprecated; in a future version of numpy, it will be understood as (type, (1,)) / '(1,)type'.\n",
      "  _np_quint8 = np.dtype([(\"quint8\", np.uint8, 1)])\n",
      "/home/abicharanb/.local/lib/python3.6/site-packages/tensorboard/compat/tensorflow_stub/dtypes.py:543: FutureWarning: Passing (type, 1) or '1type' as a synonym of type is deprecated; in a future version of numpy, it will be understood as (type, (1,)) / '(1,)type'.\n",
      "  _np_qint16 = np.dtype([(\"qint16\", np.int16, 1)])\n",
      "/home/abicharanb/.local/lib/python3.6/site-packages/tensorboard/compat/tensorflow_stub/dtypes.py:544: FutureWarning: Passing (type, 1) or '1type' as a synonym of type is deprecated; in a future version of numpy, it will be understood as (type, (1,)) / '(1,)type'.\n",
      "  _np_quint16 = np.dtype([(\"quint16\", np.uint16, 1)])\n",
      "/home/abicharanb/.local/lib/python3.6/site-packages/tensorboard/compat/tensorflow_stub/dtypes.py:545: FutureWarning: Passing (type, 1) or '1type' as a synonym of type is deprecated; in a future version of numpy, it will be understood as (type, (1,)) / '(1,)type'.\n",
      "  _np_qint32 = np.dtype([(\"qint32\", np.int32, 1)])\n",
      "/home/abicharanb/.local/lib/python3.6/site-packages/tensorboard/compat/tensorflow_stub/dtypes.py:550: FutureWarning: Passing (type, 1) or '1type' as a synonym of type is deprecated; in a future version of numpy, it will be understood as (type, (1,)) / '(1,)type'.\n",
      "  np_resource = np.dtype([(\"resource\", np.ubyte, 1)])\n"
     ]
    }
   ],
   "source": [
    "import keras\n",
    "import sklearn\n",
    "import numpy as np\n",
    "import pandas as pd"
   ]
  },
  {
   "cell_type": "code",
   "execution_count": 2,
   "metadata": {},
   "outputs": [],
   "source": [
    "#reading the necessary files\n",
    "df_reviewContent = pd.read_csv(\"~/Documents/P2/TrainModels/data/yelp/review.csv\")\n",
    "df_labelContent = pd.read_csv(\"~/Documents/P2/TrainModels/data/yelp/label.csv\")"
   ]
  },
  {
   "cell_type": "code",
   "execution_count": 3,
   "metadata": {},
   "outputs": [],
   "source": [
    "df_combined= pd.concat([df_reviewContent, df_labelContent], axis =1, join=\"inner\")\n",
    "df_trainData = df_combined[[\"label\", \"review\"]]\n",
    "\n",
    "df_trainNO = df_trainData.loc[df_trainData['label']== -1][:36000].replace(-1, value=0)\n",
    "df_trainO = df_trainData.loc[df_trainData['label']== 1][:36000]\n",
    "\n",
    "df_train = pd.concat([df_trainNO, df_trainO], ignore_index = True)\n",
    "df_train = df_train.sample(frac=1).reset_index(drop=True)"
   ]
  },
  {
   "cell_type": "code",
   "execution_count": 4,
   "metadata": {},
   "outputs": [
    {
     "data": {
      "text/html": [
       "<div>\n",
       "<style scoped>\n",
       "    .dataframe tbody tr th:only-of-type {\n",
       "        vertical-align: middle;\n",
       "    }\n",
       "\n",
       "    .dataframe tbody tr th {\n",
       "        vertical-align: top;\n",
       "    }\n",
       "\n",
       "    .dataframe thead th {\n",
       "        text-align: right;\n",
       "    }\n",
       "</style>\n",
       "<table border=\"1\" class=\"dataframe\">\n",
       "  <thead>\n",
       "    <tr style=\"text-align: right;\">\n",
       "      <th></th>\n",
       "      <th>label</th>\n",
       "      <th>review</th>\n",
       "    </tr>\n",
       "  </thead>\n",
       "  <tbody>\n",
       "    <tr>\n",
       "      <th>0</th>\n",
       "      <td>0</td>\n",
       "      <td>Pros: Delicious brisket &amp; ribs, Shiner cans (t...</td>\n",
       "    </tr>\n",
       "    <tr>\n",
       "      <th>1</th>\n",
       "      <td>0</td>\n",
       "      <td>Ate there last week and was pleasantly surpris...</td>\n",
       "    </tr>\n",
       "    <tr>\n",
       "      <th>2</th>\n",
       "      <td>0</td>\n",
       "      <td>Had the worse case of food poisoning after eat...</td>\n",
       "    </tr>\n",
       "    <tr>\n",
       "      <th>3</th>\n",
       "      <td>0</td>\n",
       "      <td>Wow...that pretty much sums it up. The service...</td>\n",
       "    </tr>\n",
       "    <tr>\n",
       "      <th>4</th>\n",
       "      <td>0</td>\n",
       "      <td>Love the way the food is presented and the lou...</td>\n",
       "    </tr>\n",
       "    <tr>\n",
       "      <th>...</th>\n",
       "      <td>...</td>\n",
       "      <td>...</td>\n",
       "    </tr>\n",
       "    <tr>\n",
       "      <th>71995</th>\n",
       "      <td>1</td>\n",
       "      <td>This is my favorite of the Pio Pios. I just lo...</td>\n",
       "    </tr>\n",
       "    <tr>\n",
       "      <th>71996</th>\n",
       "      <td>1</td>\n",
       "      <td>Great French food! Fresh menu for summer</td>\n",
       "    </tr>\n",
       "    <tr>\n",
       "      <th>71997</th>\n",
       "      <td>0</td>\n",
       "      <td>I really want to give Mamoun's 4-5 stars, the ...</td>\n",
       "    </tr>\n",
       "    <tr>\n",
       "      <th>71998</th>\n",
       "      <td>0</td>\n",
       "      <td>I come by Mompou for sangria and cocktails for...</td>\n",
       "    </tr>\n",
       "    <tr>\n",
       "      <th>71999</th>\n",
       "      <td>0</td>\n",
       "      <td>If there were a \"WTF?\" star rating in Yelp thi...</td>\n",
       "    </tr>\n",
       "  </tbody>\n",
       "</table>\n",
       "<p>72000 rows × 2 columns</p>\n",
       "</div>"
      ],
      "text/plain": [
       "       label                                             review\n",
       "0          0  Pros: Delicious brisket & ribs, Shiner cans (t...\n",
       "1          0  Ate there last week and was pleasantly surpris...\n",
       "2          0  Had the worse case of food poisoning after eat...\n",
       "3          0  Wow...that pretty much sums it up. The service...\n",
       "4          0  Love the way the food is presented and the lou...\n",
       "...      ...                                                ...\n",
       "71995      1  This is my favorite of the Pio Pios. I just lo...\n",
       "71996      1           Great French food! Fresh menu for summer\n",
       "71997      0  I really want to give Mamoun's 4-5 stars, the ...\n",
       "71998      0  I come by Mompou for sangria and cocktails for...\n",
       "71999      0  If there were a \"WTF?\" star rating in Yelp thi...\n",
       "\n",
       "[72000 rows x 2 columns]"
      ]
     },
     "execution_count": 4,
     "metadata": {},
     "output_type": "execute_result"
    }
   ],
   "source": [
    "df_train"
   ]
  },
  {
   "cell_type": "code",
   "execution_count": 5,
   "metadata": {},
   "outputs": [
    {
     "name": "stdout",
     "output_type": "stream",
     "text": [
      "Collecting nltk\n",
      "Collecting six (from nltk)\n",
      "  Using cached https://files.pythonhosted.org/packages/65/eb/1f97cb97bfc2390a276969c6fae16075da282f5058082d4cb10c6c5c1dba/six-1.14.0-py2.py3-none-any.whl\n",
      "Installing collected packages: six, nltk\n",
      "Successfully installed nltk-3.4.5 six-1.14.0\n"
     ]
    }
   ],
   "source": [
    "!pip3 install nltk"
   ]
  },
  {
   "cell_type": "code",
   "execution_count": 5,
   "metadata": {},
   "outputs": [],
   "source": [
    "import pandas as pd\n",
    "import numpy as np\n",
    "from nltk.stem.porter import *\n",
    "from nltk.tokenize import word_tokenize\n",
    "from nltk.corpus import stopwords\n",
    "import string\n",
    "import matplotlib.pyplot as plt\n",
    "import matplotlib as mpl\n",
    "%matplotlib inline\n",
    "from sklearn.svm import LinearSVC\n",
    "\n",
    "from nltk.stem import SnowballStemmer\n",
    "from nltk.stem import WordNetLemmatizer\n",
    "from sklearn.feature_extraction.text import TfidfVectorizer\n",
    "\n"
   ]
  },
  {
   "cell_type": "code",
   "execution_count": 5,
   "metadata": {},
   "outputs": [],
   "source": [
    "train_data =  list(df_train['review'])    # text"
   ]
  },
  {
   "cell_type": "code",
   "execution_count": 6,
   "metadata": {},
   "outputs": [],
   "source": [
    "transformer = TfidfVectorizer(stop_words ='english', ngram_range=(2,2)) "
   ]
  },
  {
   "cell_type": "code",
   "execution_count": 7,
   "metadata": {},
   "outputs": [],
   "source": [
    "cvectorizer = transformer.fit(df_train['review'])\n",
    "transformed = cvectorizer.transform(df_train['review'])"
   ]
  },
  {
   "cell_type": "code",
   "execution_count": 8,
   "metadata": {},
   "outputs": [],
   "source": [
    "clf = LinearSVC()\n",
    "clf.fit(transformed,df_train['label'])\n",
    "    \n",
    "coefficients = clf.coef_.ravel()\n",
    "pos_coefficients = np.argsort(coefficients )[-10:]\n",
    "neg_coefficients = np.argsort(coefficients )[:10]\n",
    "combine = np.hstack([neg_coefficients, pos_coefficients])\n",
    "    "
   ]
  },
  {
   "cell_type": "code",
   "execution_count": 11,
   "metadata": {},
   "outputs": [
    {
     "data": {
      "image/png": "[encoded data removed]",
      "text/plain": [
       "<Figure size 504x288 with 1 Axes>"
      ]
     },
     "metadata": {
      "needs_background": "light"
     },
     "output_type": "display_data"
    },
    {
     "data": {
      "text/plain": [
       "<Figure size 432x288 with 0 Axes>"
      ]
     },
     "metadata": {},
     "output_type": "display_data"
    }
   ],
   "source": [
    "plt.figure(figsize=(7, 4))\n",
    "colors = ['red' if i < 0 else 'blue' for i in coefficients[combine]]\n",
    "plt.bar(np.arange(2 * 10), coefficients[combine], color=colors)\n",
    "feature_names = np.array(cvectorizer.get_feature_names())\n",
    "    \n",
    "plt.title('Most prominent words in fake and true reviews ', fontsize = 15)\n",
    "plt.xticks(np.arange( 0, 2 * 10), feature_names[combine], rotation=40, ha='right')\n",
    "plt.show()\n",
    "plt.savefig('books_read.png')"
   ]
  },
  {
   "cell_type": "code",
   "execution_count": 1,
   "metadata": {},
   "outputs": [
    {
     "name": "stdout",
     "output_type": "stream",
     "text": [
      "Collecting pandas\n",
      "  Using cached https://files.pythonhosted.org/packages/12/d1/a6502c2f5c15b50f5dd579fc1c52b47edf6f2e9f682aed917dd7565b3e60/pandas-1.0.0-cp36-cp36m-manylinux1_x86_64.whl\n",
      "Collecting python-dateutil>=2.6.1 (from pandas)\n",
      "  Using cached https://files.pythonhosted.org/packages/d4/70/d60450c3dd48ef87586924207ae8907090de0b306af2bce5d134d78615cb/python_dateutil-2.8.1-py2.py3-none-any.whl\n",
      "Collecting pytz>=2017.2 (from pandas)\n",
      "  Using cached https://files.pythonhosted.org/packages/e7/f9/f0b53f88060247251bf481fa6ea62cd0d25bf1b11a87888e53ce5b7c8ad2/pytz-2019.3-py2.py3-none-any.whl\n",
      "Collecting numpy>=1.13.3 (from pandas)\n",
      "  Using cached https://files.pythonhosted.org/packages/62/20/4d43e141b5bc426ba38274933ef8e76e85c7adea2c321ecf9ebf7421cedf/numpy-1.18.1-cp36-cp36m-manylinux1_x86_64.whl\n",
      "Collecting six>=1.5 (from python-dateutil>=2.6.1->pandas)\n",
      "  Using cached https://files.pythonhosted.org/packages/65/eb/1f97cb97bfc2390a276969c6fae16075da282f5058082d4cb10c6c5c1dba/six-1.14.0-py2.py3-none-any.whl\n",
      "Installing collected packages: six, python-dateutil, pytz, numpy, pandas\n",
      "Successfully installed numpy-1.18.1 pandas-1.0.0 python-dateutil-2.8.1 pytz-2019.3 six-1.14.0\n"
     ]
    }
   ],
   "source": [
    "!pip3 install pandas\n",
    "import pandas as pd\n",
    "\n",
    "path = '~/Documents/P2/TrainModels/data/yelp/YelpDataSetOfficial'\n",
    "\n",
    "business = pd.read_csv(path+'/businessData.csv')\n",
    "reviews = pd.read_csv(path+'/yelpReview.csv')"
   ]
  },
  {
   "cell_type": "code",
   "execution_count": null,
   "metadata": {},
   "outputs": [],
   "source": [
    "secretPizza = reviews.loc[reviews['business_id']== 'iCQpiavjjPzJ5_3gPD5Ebg']"
   ]
  },
  {
   "cell_type": "code",
   "execution_count": null,
   "metadata": {},
   "outputs": [],
   "source": [
    "secretPizza"
   ]
  },
  {
   "cell_type": "code",
   "execution_count": null,
   "metadata": {},
   "outputs": [],
   "source": [
    "def change_label(x):\n",
    "    for i in range(len(x)):\n",
    "        if x[i] >= 3.0:    # good review: stars >=3.0\n",
    "            x[i] = 1\n",
    "        else:              # bad review: stars 3.0\n",
    "            x[i] = 0\n",
    "    return x"
   ]
  },
  {
   "cell_type": "code",
   "execution_count": null,
   "metadata": {},
   "outputs": [],
   "source": [
    "    train_data =  list(secretPizza['text'])    # text\n",
    "    label = list(secretPizza['stars'])           # ratings\n",
    "    train_label = change_label(label)\n",
    "    \n",
    "    # TfidfVectorizer Transform\n",
    "    transformer = TfidfVectorizer(stop_words ='english', ngram_range=(2,2))  # \"ignore terms that appear in less than 1% of the documents\".\n",
    "    cvectorizer = transformer.fit(secretPizza['text'])\n",
    "    transformed = cvectorizer.transform(secretPizza['text'])\n",
    "    \n",
    "    # SVM regression\n",
    "    clf = LinearSVC()\n",
    "    clf.fit(transformed,train_label)\n",
    "    \n",
    "    #flatten the array\n",
    "    coefficients = clf.coef_.ravel()\n",
    "    \n",
    "    #starts at -10\n",
    "    pos_coefficients = np.argsort(coefficients )[-10:]\n",
    "    \n",
    "    #stops after 10 indexes \n",
    "    neg_coefficients = np.argsort(coefficients )[:10]\n",
    "    \n",
    "    #combines both the positive and negative coefficients \n",
    "    combine = np.hstack([neg_coefficients, pos_coefficients])\n",
    "    \n",
    "    plt.figure(figsize=(7, 4))\n",
    "    colors = ['red' if i < 0 else 'blue' for i in coefficients[combine]]\n",
    "    plt.bar(np.arange(2 * 10), coefficients[combine], color=colors)\n",
    "    feature_names = np.array(cvectorizer.get_feature_names())\n",
    "    \n",
    "    plt.title('Negative/Positive features about the restaurant', fontsize = 15)\n",
    "    plt.xticks(np.arange( 0, 2 * 10), feature_names[combine], rotation=40, ha='right')\n",
    "    plt.show()"
   ]
  },
  {
   "cell_type": "code",
   "execution_count": null,
   "metadata": {},
   "outputs": [],
   "source": [
    "feature_names[combine]"
   ]
  },
  {
   "cell_type": "code",
   "execution_count": 9,
   "metadata": {},
   "outputs": [],
   "source": [
    "def feature_extraction(res_id, review_type):\n",
    "    selected = reviews.loc[reviews['business_id']== res_id]\n",
    "    \n",
    "    train_data =  list(selected['text'])    # text\n",
    "    label = list(selected['stars'])           # ratings\n",
    "    train_label = change_label(label)\n",
    "    \n",
    "    # TfidfVectorizer Transform\n",
    "    transformer = TfidfVectorizer(stop_words ='english', ngram_range=(2,2))  # \"ignore terms that appear in less than 1% of the documents\".\n",
    "    cvectorizer = transformer.fit(selected['text'])\n",
    "    transformed = cvectorizer.transform(selected['text'])\n",
    "    \n",
    "    # SVM regression\n",
    "    clf = LinearSVC()\n",
    "    clf.fit(transformed,train_label)\n",
    "    \n",
    "    #flatten the array\n",
    "    coefficients = clf.coef_.ravel()\n",
    "    \n",
    "    #starts at -10\n",
    "    pos_coefficients = np.argsort(coefficients )[-10:]\n",
    "    \n",
    "    #stops after 10 indexes \n",
    "    neg_coefficients = np.argsort(coefficients )[:10]\n",
    "    \n",
    "    #combines both the positive and negative coefficients \n",
    "    combine = np.hstack([neg_coefficients, pos_coefficients])\n",
    "    feature_names = np.array(cvectorizer.get_feature_names())\n",
    "    featurelist = feature_names[combine].tolist()\n",
    "    \n",
    "    if review_type == 0:\n",
    "        return featurelist[:9]\n",
    "    else:\n",
    "        return featurelist[-10:]"
   ]
  },
  {
   "cell_type": "code",
   "execution_count": 10,
   "metadata": {},
   "outputs": [],
   "source": [
    "def change_label(x):\n",
    "    for i in range(len(x)):\n",
    "        if x[i] >= 3.0:    # good review: stars >=3.0\n",
    "            x[i] = 1\n",
    "        else:              # bad review: stars 3.0\n",
    "            x[i] = 0\n",
    "    return x"
   ]
  },
  {
   "cell_type": "code",
   "execution_count": 17,
   "metadata": {},
   "outputs": [
    {
     "data": {
      "text/plain": [
       "['food poisoning',\n",
       " 'worst buffet',\n",
       " 'save money',\n",
       " 'food mediocre',\n",
       " 'food cold',\n",
       " 'good thing',\n",
       " 'waste money',\n",
       " 'tasted like',\n",
       " 'food just']"
      ]
     },
     "execution_count": 17,
     "metadata": {},
     "output_type": "execute_result"
    }
   ],
   "source": [
    "feature_extraction('K7lWdNUhCbcnEvI0NhGewg',0)"
   ]
  },
  {
   "cell_type": "code",
   "execution_count": null,
   "metadata": {},
   "outputs": [],
   "source": [
    "#2 Earl of SandWich, ID: DkYS3arLOhA8si5uUEmHOw\n",
    "\n",
    "#3 Gordon Ramsay BurGR, ID: cYwJA2A6I12KNkm2rtXd5g\n",
    "\n",
    "#4 Wicked spoon, ID: K7lWdNUhCbcnEvI0NhGewg\n"
   ]
  },
  {
   "cell_type": "code",
   "execution_count": null,
   "metadata": {},
   "outputs": [],
   "source": []
  },
  {
   "cell_type": "code",
   "execution_count": null,
   "metadata": {},
   "outputs": [],
   "source": []
  }
 ],
 "metadata": {
  "kernelspec": {
   "display_name": "Python 3",
   "language": "python",
   "name": "python3"
  },
  "language_info": {
   "codemirror_mode": {
    "name": "ipython",
    "version": 3
   },
   "file_extension": ".py",
   "mimetype": "text/x-python",
   "name": "python",
   "nbconvert_exporter": "python",
   "pygments_lexer": "ipython3",
   "version": "3.6.9"
  }
 },
 "nbformat": 4,
 "nbformat_minor": 2
}
